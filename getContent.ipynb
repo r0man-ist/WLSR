{
 "cells": [
  {
   "cell_type": "code",
   "execution_count": 8,
   "id": "1b4fe713",
   "metadata": {},
   "outputs": [],
   "source": [
    "from dotenv import load_dotenv\n",
    "import os\n",
    "import openai\n",
    "import csv\n",
    "import json\n"
   ]
  },
  {
   "cell_type": "code",
   "execution_count": 2,
   "id": "512b77eb",
   "metadata": {},
   "outputs": [
    {
     "data": {
      "text/plain": [
       "True"
      ]
     },
     "execution_count": 2,
     "metadata": {},
     "output_type": "execute_result"
    }
   ],
   "source": [
    "load_dotenv()"
   ]
  },
  {
   "cell_type": "code",
   "execution_count": 3,
   "id": "f61dce4a",
   "metadata": {},
   "outputs": [],
   "source": [
    "API_KEY = os.getenv(\"API_KEY\")\n"
   ]
  },
  {
   "cell_type": "code",
   "execution_count": null,
   "id": "41b8710e",
   "metadata": {},
   "outputs": [
    {
     "name": "stdout",
     "output_type": "stream",
     "text": [
      "ChatCompletion(id='chatcmpl-BkC1OkQrUASiZ21qG008HY3w47bfD', choices=[Choice(finish_reason='stop', index=0, logprobs=None, message=ChatCompletionMessage(content='{\\n  \"result\": [\\n    {\"Name\": \"Dr. Felix Abraham\", \"Place\": \"Berlin\", \"Title\": \"Eine neue Methode zur Behandlung des Hypererotismus.\"},\\n    {\"Name\": \"Dr. Wansey Bayly\", \"Place\": \"London\", \"Title\": \"The Prevention of Venereal Disease by Immediate Self-Disinfection.\"},\\n    {\"Name\": \"Dr. Kurt Bendix\", \"Place\": \"Berlin\", \"Title\": \"Der Stand der Geburtenregelungsfrage in Berlin.\"},\\n    {\"Name\": \"Dr. Harry Benjamin\", \"Place\": \"New York\", \"Title\": \"The Reactivation of Women.\"},\\n    {\"Name\": \"Ewald Bohm\", \"Place\": \"Germany\", \"Title\": \"A Project for Founding an International Bureau for Sex-Education.\"},\\n    {\"Name\": \"Miss Stella Browne\", \"Place\": \"\", \"Title\": \"The Right to Abortion.\"},\\n    {\"Name\": \"Mrs. Janet Chance\", \"Place\": \"London\", \"Title\": \"A Marriage Education Centre in London.\"},\\n    {\"Name\": \"W. F. Ostrander\", \"Place\": \"U.S.A.\", \"Title\": \"\"},\\n    {\"Name\": \"Rev. Dr. W. F. Geikie-Cobb\", \"Place\": \"London\", \"Title\": \"The Law of Marriage in England.\"},\\n    {\"Name\": \"Mrs. Palmer\", \"Place\": \"London\", \"Title\": \"Censorship and the Stage.\"},\\n    {\"Name\": \"Mrs. Alan Seal, Lois Dent\", \"Place\": \"London\", \"Title\": \"Ax without Tears.\"},\\n    {\"Name\": \"Erich Ebermayer\", \"Place\": \"Germany\", \"Title\": \"Die Sexuelle Lage der Deutschen Jugend nach dem Kriege.\"},\\n    {\"Name\": \"C. G. Druce, Esq., D.Sc.\", \"Place\": \"London\", \"Title\": \"The Contraceptive Methods Injurious to Health.\"},\\n    {\"Name\": \"Dr. Emil Rahm\", \"Place\": \"Cologne\", \"Title\": \"Are Economically Poorer Couples should not Have More Than Two Children.\"},\\n    {\"Name\": \"Dr. M. D. Eder\", \"Place\": \"London\", \"Title\": \"Sterilisation of the Unfit.\"},\\n    {\"Name\": \"Frau Dr. Johanna Elberskirchen\", \"Place\": \"Berlin\", \"Title\": \"Die Sozielle Uberzüchtung der Frau und die Dyscrasie des Sexuallebens und der Ehe.|Die Vaterrechtliche Kultur und die Vorbeugung der Prostitution.|Die Altercoenetische Weibliche Dynamik im Entwicklungsprozess der Natur und Kultur, und die Neugestaltung des Empfindens zwischen Weib und Mann.\"},\\n    {\"Name\": \"T. F. Faithful, Esq.\", \"Place\": \"England\", \"Title\": \"The Adjustment of Maleness and Femaleness in Children.\"},\\n    {\"Name\": \"Professor C. F. Flugel, D.Sc.\", \"Place\": \"London\", \"Title\": \"Sex Differences in Dress.\"},\\n    {\"Name\": \"Dr. Joset K. Friedjung\", \"Place\": \"Vienna\", \"Title\": \"\"},\\n    {\"Name\": \"Professor Patrick Geddes\", \"Place\": \"France\", \"Title\": \"\"},\\n    {\"Name\": \"Dr. Genson\", \"Place\": \"Russia\", \"Title\": \"The Demand for Abortion in Soviet Russia.\"},\\n    {\"Name\": \"Rudolf Goldscheid\", \"Place\": \"Vienna\", \"Title\": \"Die sexuelle Revolution: eine Studie über den Strukturwandel in der Bevölkerungsökonomie.\"},\\n    {\"Name\": \"Dr. Ernst Gräfenberg\", \"Place\": \"Berlin\", \"Title\": \"Experimental-Methode der Konzeptionverhütung.\"},\\n    {\"Name\": \"Dr. Norman Haire\", \"Place\": \"London\", \"Title\": \"The Importance of Sexual Disorders and Disharmonies in the Production of Ill-health.\"},\\n    {\"Name\": \"Professor Felix Halle, Jur.\", \"Place\": \"Berlin\", \"Title\": \"Ueber Reform des Ehe- und Familienrechts, insbesondere Begründung der Auflösung der Ehe.|Die Strafrechtliche Behandlung des Aborts. Ueber die Sterilisation von Männern und Frauen im Strafrecht auf Grund medizinischer Anordnung.|Die strafrechtliche Behandlung der Prostitution.\"},\\n    {\"Name\": \"Dr. Jane Hawthorne\", \"Place\": \"London\", \"Title\": \"Geschlechtsleben und Zensur.\"},\\n    {\"Name\": \"Dr. S. Herbert\", \"Place\": \"Manchester\", \"Title\": \"Psychoanalysis and Sex.\"},\\n    {\"Name\": \"Dr. T. W. Hill\", \"Place\": \"London\", \"Title\": \"Nature versus Society.\"},\\n    {\"Name\": \"Dr. Franz Hirsch\", \"Place\": \"Berlin\", \"Title\": \"The use of Blood-tests for the Determination of Paternity.\"},\\n    {\"Name\": \"Sanitätsrät Dr. Magnus Hirschfeld\", \"Place\": \"Berlin\", \"Title\": \"Einleitung der Sexualwissenschaft.|Über Amtliche Eheerwittmung.|Der Begriff des Unzüchtigen.\"},\\n    {\"Name\": \"Dr. Max Hodann\", \"Place\": \"Berlin\", \"Title\": \"Insanity and Divorce.\"},\\n    {\"Name\": \"Dr. Bernard Hollander\", \"Place\": \"London\", \"Title\": \"Censorship of Literature.\"},\\n    {\"Name\": \"Prynee Hopkins, Esq., Ph.D.\", \"Place\": \"U.S.A.\", \"Title\": \"Birth Control.\"},\\n    {\"Name\": \"Laurence Housman, Esq.\", \"Place\": \"England\", \"Title\": \"\"},\\n    {\"Name\": \"Prof. Julian Huxley\", \"Place\": \"London\", \"Title\": \"Birth Control Work among the Poor in Sweden.\"},\\n    {\"Name\": \"Dr. Aletta Jacobs\", \"Place\": \"Holland\", \"Title\": \"Sex and Religion.\"},\\n    {\"Name\": \"Fru Elsie Ottosen-Jensen\", \"Place\": \"Sweden\", \"Title\": \"The Sexual Rights of Spinsters.\"},\\n    {\"Name\": \"E. S. Jenda, Esq.\", \"Place\": \"London\", \"Title\": \"Über Keuchheit.\"},\\n    {\"Name\": \"C. E. M. Joad, Esq.\", \"Place\": \"London\", \"Title\": \"Die sexulle Belastung der Frau und ihre Gesellschaftlichen Auswirkungen.\"},\\n    {\"Name\": \"B. R. Kerr, Esq.\", \"Place\": \"London\", \"Title\": \"Das Vaterrechtsproblem.\"},\\n    {\"Name\": \"Frau Maria Kischke\", \"Place\": \"Berlin\", \"Title\": \"Der Neuzeitige Antifeminismus.\"},\\n    {\"Name\": \"Paul Krische, Ph.D.\", \"Place\": \"Berlin\", \"Title\": \"Contrary Genetic Methods Requiring Medical Assistance.|Abortion and Sterilisation in Denmark.|Das Luftkissen-Pessar Secura.\"},\\n    {\"Name\": \"Dr. Hans Lehfeldt\", \"Place\": \"Berlin\", \"Title\": \"Companionate Marriage.\"},\\n    {\"Name\": \"Dr. J. Leonbuch\", \"Place\": \"Copenhagen\", \"Title\": \"\"},\\n    {\"Name\": \"Dr. W. Leonhardt\", \"Place\": \"Germany\", \"Title\": \"\"},\\n    {\"Name\": \"Judge Ben Lindsey\", \"Place\": \"U.S.A.\", \"Title\": \"Companionate Marriage.\"}\\n  ]\\n}', refusal=None, role='assistant', annotations=[], audio=None, function_call=None, tool_calls=None))], created=1750348998, model='gpt-4.1-2025-04-14', object='chat.completion', service_tier='default', system_fingerprint='fp_51e1070cf2', usage=CompletionUsage(completion_tokens=1574, prompt_tokens=958, total_tokens=2532, completion_tokens_details=CompletionTokensDetails(accepted_prediction_tokens=0, audio_tokens=0, reasoning_tokens=0, rejected_prediction_tokens=0), prompt_tokens_details=PromptTokensDetails(audio_tokens=0, cached_tokens=0)))\n"
     ]
    }
   ],
   "source": [
    "openai.api_key = API_KEY\n",
    "\n",
    "image_url = \"https://content.staatsbibliothek-berlin.de/dc/771823622-0005/full/full/0/default.jpg\"\n",
    "\n",
    "response = openai.chat.completions.create(\n",
    "    model=\"gpt-4.1\",\n",
    "    messages=[\n",
    "        {\n",
    "            \"role\": \"user\",\n",
    "            \"content\": [\n",
    "                {\"type\": \"text\", \n",
    "                 \"text\": \"You are an historian specializing in the history of science and on the history of sexuality. Have a look at the Programme of the 3rd congress of the international league for sexual reform held in London in 1929. The document represents in the left column the name of the speakers and the place or country of origin and the title of their talk in the right column. Please extract from the image a json countaining Name, Place, title. In some cases, there is only a name and place in one line and no title; leave the title value empty in those cases. Some Names are associated with more than one title; those multiple titles should be in a list in one value, use '|' as a separator. The first line and header should be ignored. The output should be a json array with the following structure: [{'Name': 'name', 'Place': 'place', 'Title': 'title'}, ...].\"},\n",
    "                {\n",
    "                    \"type\": \"image_url\",\n",
    "                    \"image_url\": {\n",
    "                        \"url\": image_url,\n",
    "                    },\n",
    "                },\n",
    "            ],\n",
    "        },\n",
    "    ],\n",
    "    response_format = {\"type\": \"json_object\"}\n",
    ")\n",
    "\n",
    "\n",
    "# Get the model's response\n",
    "data = response.choices[0].message.content\n",
    "\n"
   ]
  },
  {
   "cell_type": "code",
   "execution_count": 15,
   "id": "6f743d88",
   "metadata": {},
   "outputs": [
    {
     "name": "stdout",
     "output_type": "stream",
     "text": [
      "{\n",
      "  \"result\": [\n",
      "    {\"Name\": \"Dr. Felix Abraham\", \"Place\": \"Berlin\", \"Title\": \"Eine neue Methode zur Behandlung des Hypererotismus.\"},\n",
      "    {\"Name\": \"Dr. Wansey Bayly\", \"Place\": \"London\", \"Title\": \"The Prevention of Venereal Disease by Immediate Self-Disinfection.\"},\n",
      "    {\"Name\": \"Dr. Kurt Bendix\", \"Place\": \"Berlin\", \"Title\": \"Der Stand der Geburtenregelungsfrage in Berlin.\"},\n",
      "    {\"Name\": \"Dr. Harry Benjamin\", \"Place\": \"New York\", \"Title\": \"The Reactivation of Women.\"},\n",
      "    {\"Name\": \"Ewald Bohm\", \"Place\": \"Germany\", \"Title\": \"A Project for Founding an International Bureau for Sex-Education.\"},\n",
      "    {\"Name\": \"Miss Stella Browne\", \"Place\": \"\", \"Title\": \"The Right to Abortion.\"},\n",
      "    {\"Name\": \"Mrs. Janet Chance\", \"Place\": \"London\", \"Title\": \"A Marriage Education Centre in London.\"},\n",
      "    {\"Name\": \"W. F. Ostrander\", \"Place\": \"U.S.A.\", \"Title\": \"\"},\n",
      "    {\"Name\": \"Rev. Dr. W. F. Geikie-Cobb\", \"Place\": \"London\", \"Title\": \"The Law of Marriage in England.\"},\n",
      "    {\"Name\": \"Mrs. Palmer\", \"Place\": \"London\", \"Title\": \"Censorship and the Stage.\"},\n",
      "    {\"Name\": \"Mrs. Alan Seal, Lois Dent\", \"Place\": \"London\", \"Title\": \"Ax without Tears.\"},\n",
      "    {\"Name\": \"Erich Ebermayer\", \"Place\": \"Germany\", \"Title\": \"Die Sexuelle Lage der Deutschen Jugend nach dem Kriege.\"},\n",
      "    {\"Name\": \"C. G. Druce, Esq., D.Sc.\", \"Place\": \"London\", \"Title\": \"The Contraceptive Methods Injurious to Health.\"},\n",
      "    {\"Name\": \"Dr. Emil Rahm\", \"Place\": \"Cologne\", \"Title\": \"Are Economically Poorer Couples should not Have More Than Two Children.\"},\n",
      "    {\"Name\": \"Dr. M. D. Eder\", \"Place\": \"London\", \"Title\": \"Sterilisation of the Unfit.\"},\n",
      "    {\"Name\": \"Frau Dr. Johanna Elberskirchen\", \"Place\": \"Berlin\", \"Title\": \"Die Sozielle Uberzüchtung der Frau und die Dyscrasie des Sexuallebens und der Ehe.|Die Vaterrechtliche Kultur und die Vorbeugung der Prostitution.|Die Altercoenetische Weibliche Dynamik im Entwicklungsprozess der Natur und Kultur, und die Neugestaltung des Empfindens zwischen Weib und Mann.\"},\n",
      "    {\"Name\": \"T. F. Faithful, Esq.\", \"Place\": \"England\", \"Title\": \"The Adjustment of Maleness and Femaleness in Children.\"},\n",
      "    {\"Name\": \"Professor C. F. Flugel, D.Sc.\", \"Place\": \"London\", \"Title\": \"Sex Differences in Dress.\"},\n",
      "    {\"Name\": \"Dr. Joset K. Friedjung\", \"Place\": \"Vienna\", \"Title\": \"\"},\n",
      "    {\"Name\": \"Professor Patrick Geddes\", \"Place\": \"France\", \"Title\": \"\"},\n",
      "    {\"Name\": \"Dr. Genson\", \"Place\": \"Russia\", \"Title\": \"The Demand for Abortion in Soviet Russia.\"},\n",
      "    {\"Name\": \"Rudolf Goldscheid\", \"Place\": \"Vienna\", \"Title\": \"Die sexuelle Revolution: eine Studie über den Strukturwandel in der Bevölkerungsökonomie.\"},\n",
      "    {\"Name\": \"Dr. Ernst Gräfenberg\", \"Place\": \"Berlin\", \"Title\": \"Experimental-Methode der Konzeptionverhütung.\"},\n",
      "    {\"Name\": \"Dr. Norman Haire\", \"Place\": \"London\", \"Title\": \"The Importance of Sexual Disorders and Disharmonies in the Production of Ill-health.\"},\n",
      "    {\"Name\": \"Professor Felix Halle, Jur.\", \"Place\": \"Berlin\", \"Title\": \"Ueber Reform des Ehe- und Familienrechts, insbesondere Begründung der Auflösung der Ehe.|Die Strafrechtliche Behandlung des Aborts. Ueber die Sterilisation von Männern und Frauen im Strafrecht auf Grund medizinischer Anordnung.|Die strafrechtliche Behandlung der Prostitution.\"},\n",
      "    {\"Name\": \"Dr. Jane Hawthorne\", \"Place\": \"London\", \"Title\": \"Geschlechtsleben und Zensur.\"},\n",
      "    {\"Name\": \"Dr. S. Herbert\", \"Place\": \"Manchester\", \"Title\": \"Psychoanalysis and Sex.\"},\n",
      "    {\"Name\": \"Dr. T. W. Hill\", \"Place\": \"London\", \"Title\": \"Nature versus Society.\"},\n",
      "    {\"Name\": \"Dr. Franz Hirsch\", \"Place\": \"Berlin\", \"Title\": \"The use of Blood-tests for the Determination of Paternity.\"},\n",
      "    {\"Name\": \"Sanitätsrät Dr. Magnus Hirschfeld\", \"Place\": \"Berlin\", \"Title\": \"Einleitung der Sexualwissenschaft.|Über Amtliche Eheerwittmung.|Der Begriff des Unzüchtigen.\"},\n",
      "    {\"Name\": \"Dr. Max Hodann\", \"Place\": \"Berlin\", \"Title\": \"Insanity and Divorce.\"},\n",
      "    {\"Name\": \"Dr. Bernard Hollander\", \"Place\": \"London\", \"Title\": \"Censorship of Literature.\"},\n",
      "    {\"Name\": \"Prynee Hopkins, Esq., Ph.D.\", \"Place\": \"U.S.A.\", \"Title\": \"Birth Control.\"},\n",
      "    {\"Name\": \"Laurence Housman, Esq.\", \"Place\": \"England\", \"Title\": \"\"},\n",
      "    {\"Name\": \"Prof. Julian Huxley\", \"Place\": \"London\", \"Title\": \"Birth Control Work among the Poor in Sweden.\"},\n",
      "    {\"Name\": \"Dr. Aletta Jacobs\", \"Place\": \"Holland\", \"Title\": \"Sex and Religion.\"},\n",
      "    {\"Name\": \"Fru Elsie Ottosen-Jensen\", \"Place\": \"Sweden\", \"Title\": \"The Sexual Rights of Spinsters.\"},\n",
      "    {\"Name\": \"E. S. Jenda, Esq.\", \"Place\": \"London\", \"Title\": \"Über Keuchheit.\"},\n",
      "    {\"Name\": \"C. E. M. Joad, Esq.\", \"Place\": \"London\", \"Title\": \"Die sexulle Belastung der Frau und ihre Gesellschaftlichen Auswirkungen.\"},\n",
      "    {\"Name\": \"B. R. Kerr, Esq.\", \"Place\": \"London\", \"Title\": \"Das Vaterrechtsproblem.\"},\n",
      "    {\"Name\": \"Frau Maria Kischke\", \"Place\": \"Berlin\", \"Title\": \"Der Neuzeitige Antifeminismus.\"},\n",
      "    {\"Name\": \"Paul Krische, Ph.D.\", \"Place\": \"Berlin\", \"Title\": \"Contrary Genetic Methods Requiring Medical Assistance.|Abortion and Sterilisation in Denmark.|Das Luftkissen-Pessar Secura.\"},\n",
      "    {\"Name\": \"Dr. Hans Lehfeldt\", \"Place\": \"Berlin\", \"Title\": \"Companionate Marriage.\"},\n",
      "    {\"Name\": \"Dr. J. Leonbuch\", \"Place\": \"Copenhagen\", \"Title\": \"\"},\n",
      "    {\"Name\": \"Dr. W. Leonhardt\", \"Place\": \"Germany\", \"Title\": \"\"},\n",
      "    {\"Name\": \"Judge Ben Lindsey\", \"Place\": \"U.S.A.\", \"Title\": \"Companionate Marriage.\"}\n",
      "  ]\n",
      "}\n"
     ]
    }
   ],
   "source": [
    "print(data)"
   ]
  },
  {
   "cell_type": "code",
   "execution_count": 17,
   "id": "4c2fc8fa",
   "metadata": {},
   "outputs": [],
   "source": [
    "# Save data to a file\n",
    "with open(\"output.json\", \"w\") as f:\n",
    "    json.dump(json.loads(data), f, indent=4)\n",
    "    "
   ]
  }
 ],
 "metadata": {
  "kernelspec": {
   "display_name": "Python 3",
   "language": "python",
   "name": "python3"
  },
  "language_info": {
   "codemirror_mode": {
    "name": "ipython",
    "version": 3
   },
   "file_extension": ".py",
   "mimetype": "text/x-python",
   "name": "python",
   "nbconvert_exporter": "python",
   "pygments_lexer": "ipython3",
   "version": "3.12.0"
  }
 },
 "nbformat": 4,
 "nbformat_minor": 5
}
